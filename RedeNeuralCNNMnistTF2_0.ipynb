{
  "nbformat": 4,
  "nbformat_minor": 0,
  "metadata": {
    "colab": {
      "name": "RedeNeuralCNNMnistTF2.0.ipynb",
      "provenance": [],
      "collapsed_sections": [
        "DHuAcfjZD1N3",
        "fJoSPIa-GmMj",
        "-omGu06BE2Sj",
        "ZDTzCNlNW0Ql"
      ],
      "authorship_tag": "ABX9TyPnHqmc5rg0SiQAM4QWQRj4",
      "include_colab_link": true
    },
    "kernelspec": {
      "name": "python3",
      "display_name": "Python 3"
    },
    "language_info": {
      "name": "python"
    }
  },
  "cells": [
    {
      "cell_type": "markdown",
      "metadata": {
        "id": "view-in-github",
        "colab_type": "text"
      },
      "source": [
        "<a href=\"https://colab.research.google.com/github/helsonmatos/EstudosRN/blob/main/RedeNeuralCNNMnistTF2_0.ipynb\" target=\"_parent\"><img src=\"https://colab.research.google.com/assets/colab-badge.svg\" alt=\"Open In Colab\"/></a>"
      ]
    },
    {
      "cell_type": "markdown",
      "metadata": {
        "id": "wie0o8OGDOVD"
      },
      "source": [
        "# Dados MNIST\n",
        "\n",
        "\n",
        "> Dataset de imagens de digítos escritos a mão.\n",
        "\n",
        "\n",
        "\n"
      ]
    },
    {
      "cell_type": "markdown",
      "metadata": {
        "id": "DHuAcfjZD1N3"
      },
      "source": [
        "# Etapa 1: \n",
        "\n",
        "\n",
        "*   Importando as bibliotecas\n",
        "*   Separando os dados em treino e teste\n",
        "\n",
        "\n",
        "\n"
      ]
    },
    {
      "cell_type": "code",
      "metadata": {
        "id": "1qslmqUMAQqc"
      },
      "source": [
        "import warnings\n",
        "warnings.filterwarnings('ignore')\n",
        "import tensorflow as tf\n",
        "(x_treino,y_treino),(x_teste,y_teste) = tf.keras.datasets.mnist.load_data(path='mnist.npz')"
      ],
      "execution_count": null,
      "outputs": []
    },
    {
      "cell_type": "code",
      "metadata": {
        "colab": {
          "base_uri": "https://localhost:8080/"
        },
        "id": "MPJJnyuTBWz8",
        "outputId": "ac857b0a-88c9-40fe-af6d-924e52cc2b85"
      },
      "source": [
        "x_treino.shape"
      ],
      "execution_count": null,
      "outputs": [
        {
          "output_type": "execute_result",
          "data": {
            "text/plain": [
              "(60000, 28, 28)"
            ]
          },
          "metadata": {
            "tags": []
          },
          "execution_count": 55
        }
      ]
    },
    {
      "cell_type": "markdown",
      "metadata": {
        "id": "fJoSPIa-GmMj"
      },
      "source": [
        "#Etapa 2: Transformando dados"
      ]
    },
    {
      "cell_type": "markdown",
      "metadata": {
        "id": "ktUoQ8gkGSNT"
      },
      "source": [
        "\n",
        "\n",
        "*   O Modelo Conv2D espera que eu passe 3 dimensões: altura, largura e padrão de cores.\n",
        "\n"
      ]
    },
    {
      "cell_type": "code",
      "metadata": {
        "id": "r98gigOxF9Dv"
      },
      "source": [
        "x_treino = x_treino.reshape(x_treino.shape[0],28,28,1)\n",
        "x_teste = x_teste.reshape(x_teste.shape[0],28,28,1)"
      ],
      "execution_count": null,
      "outputs": []
    },
    {
      "cell_type": "code",
      "metadata": {
        "id": "L6Kk96lMSjth"
      },
      "source": [
        "x_treino_normalizado = x_treino.astype('float32') / 255\n",
        "x_teste_normalizado = x_teste.astype('float32') / 255"
      ],
      "execution_count": null,
      "outputs": []
    },
    {
      "cell_type": "markdown",
      "metadata": {
        "id": "TWVq4aF0EeOD"
      },
      "source": [
        "\n",
        "\n",
        "*    Convertendo a variável target.\n",
        "\n"
      ]
    },
    {
      "cell_type": "code",
      "metadata": {
        "id": "CAdkezDUCN6s"
      },
      "source": [
        "from tensorflow.keras.utils import to_categorical\n",
        "y_treino = to_categorical(y_treino)\n",
        "y_teste = to_categorical(y_teste)"
      ],
      "execution_count": null,
      "outputs": []
    },
    {
      "cell_type": "markdown",
      "metadata": {
        "id": "-omGu06BE2Sj"
      },
      "source": [
        "#Etapa 3: Preparando o modelo de Rede Neural CNN:\n"
      ]
    },
    {
      "cell_type": "code",
      "metadata": {
        "id": "8yoPN_tPC4ZF"
      },
      "source": [
        "model = tf.keras.Sequential()\n",
        "model.add(tf.keras.layers.Conv2D(32,(3,3), activation='relu', input_shape=(28,28,1)))\n",
        "model.add(tf.keras.layers.MaxPooling2D(pool_size=(2,2),strides=None, padding='valid'))\n",
        "model.add(tf.keras.layers.Flatten())\n",
        "model.add(tf.keras.layers.Dense(80, kernel_initializer='normal', activation='relu'))\n",
        "model.add(tf.keras.layers.Dropout(0.2))\n",
        "model.add(tf.keras.layers.Dense(10, kernel_initializer='normal', activation='softmax'))"
      ],
      "execution_count": null,
      "outputs": []
    },
    {
      "cell_type": "code",
      "metadata": {
        "id": "3yzA-4oYIebl"
      },
      "source": [
        "model.compile(optimizer='adam',loss='categorical_crossentropy', metrics=['acc'])"
      ],
      "execution_count": null,
      "outputs": []
    },
    {
      "cell_type": "markdown",
      "metadata": {
        "id": "ZDTzCNlNW0Ql"
      },
      "source": [
        "#Etapa 4: Treinando o modelo:"
      ]
    },
    {
      "cell_type": "code",
      "metadata": {
        "colab": {
          "base_uri": "https://localhost:8080/"
        },
        "id": "Gsjp6T7QODfx",
        "outputId": "ab9dcf0e-453d-4408-f0b9-82bc9be5fb53"
      },
      "source": [
        "model.fit(x_treino_normalizado,y_treino, batch_size=200, epochs=10, validation_data=(x_teste_normalizado,y_teste), verbose=1)"
      ],
      "execution_count": null,
      "outputs": [
        {
          "output_type": "stream",
          "text": [
            "Epoch 1/10\n",
            "300/300 [==============================] - 22s 71ms/step - loss: 0.0485 - acc: 0.9853 - val_loss: 0.0432 - val_acc: 0.9852\n",
            "Epoch 2/10\n",
            "300/300 [==============================] - 21s 71ms/step - loss: 0.0417 - acc: 0.9877 - val_loss: 0.0401 - val_acc: 0.9866\n",
            "Epoch 3/10\n",
            "300/300 [==============================] - 21s 71ms/step - loss: 0.0381 - acc: 0.9884 - val_loss: 0.0383 - val_acc: 0.9871\n",
            "Epoch 4/10\n",
            "300/300 [==============================] - 21s 71ms/step - loss: 0.0341 - acc: 0.9898 - val_loss: 0.0366 - val_acc: 0.9872\n",
            "Epoch 5/10\n",
            "300/300 [==============================] - 21s 71ms/step - loss: 0.0316 - acc: 0.9902 - val_loss: 0.0355 - val_acc: 0.9876\n",
            "Epoch 6/10\n",
            "300/300 [==============================] - 21s 71ms/step - loss: 0.0295 - acc: 0.9906 - val_loss: 0.0363 - val_acc: 0.9869\n",
            "Epoch 7/10\n",
            "300/300 [==============================] - 21s 71ms/step - loss: 0.0265 - acc: 0.9920 - val_loss: 0.0369 - val_acc: 0.9871\n",
            "Epoch 8/10\n",
            "300/300 [==============================] - 21s 71ms/step - loss: 0.0239 - acc: 0.9926 - val_loss: 0.0359 - val_acc: 0.9871\n",
            "Epoch 9/10\n",
            "300/300 [==============================] - 21s 71ms/step - loss: 0.0225 - acc: 0.9927 - val_loss: 0.0396 - val_acc: 0.9861\n",
            "Epoch 10/10\n",
            "300/300 [==============================] - 21s 71ms/step - loss: 0.0206 - acc: 0.9932 - val_loss: 0.0367 - val_acc: 0.9875\n"
          ],
          "name": "stdout"
        },
        {
          "output_type": "execute_result",
          "data": {
            "text/plain": [
              "<tensorflow.python.keras.callbacks.History at 0x7f08b6fa1050>"
            ]
          },
          "metadata": {
            "tags": []
          },
          "execution_count": 62
        }
      ]
    },
    {
      "cell_type": "code",
      "metadata": {
        "id": "nF9B6rl2P1nt"
      },
      "source": [
        ""
      ],
      "execution_count": null,
      "outputs": []
    }
  ]
}